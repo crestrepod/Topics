{
  "nbformat": 4,
  "nbformat_minor": 0,
  "metadata": {
    "colab": {
      "name": "Notebook_pinch",
      "provenance": [],
      "authorship_tag": "ABX9TyPNDbjHuldaFM8FttLlt9ub",
      "include_colab_link": true
    },
    "kernelspec": {
      "name": "python3",
      "display_name": "Python 3"
    },
    "language_info": {
      "name": "python"
    }
  },
  "cells": [
    {
      "cell_type": "markdown",
      "metadata": {
        "id": "view-in-github",
        "colab_type": "text"
      },
      "source": [
        "<a href=\"https://colab.research.google.com/github/crestrepod/Topics/blob/main/Notebook_pinch.ipynb\" target=\"_parent\"><img src=\"https://colab.research.google.com/assets/colab-badge.svg\" alt=\"Open In Colab\"/></a>"
      ]
    },
    {
      "cell_type": "code",
      "metadata": {
        "id": "Le8WHVg6tEMk"
      },
      "source": [
        "import matplotlib.pyplot as plt\n",
        "import numpy as np\n",
        "import pandas as pd\n",
        "\n",
        "def plot_pinch(Cp,T):\n",
        "  dT = []\n",
        "  for i in range(len(T)):\n",
        "    dT.append(T[i][1]-T[i][0])\n",
        "  Q = []\n",
        "  for i in range(len(T)):\n",
        "    Q.append(Cp[i]*dT[i])\n",
        "  Q_acc = [0]\n",
        "  for i in range(len(T)):\n",
        "    Q_acc.append(Q_acc[i]+Q[i])\n",
        "\n",
        "  plt.figure()\n",
        "  plt.title(\"Hot Steam\")\n",
        "  plt.xlabel(\"Q [kW]\")\n",
        "  plt.ylabel(\"T [°C]\")\n",
        "  for i in range(2):\n",
        "    plt.plot([Q_acc[i],Q_acc[i+1]],T[i], 'r')\n",
        "    plt.plot([0,Q_acc[2]],[T[i],T[i]],'--k')\n",
        "  plt.show()\n",
        "\n",
        "  plt.figure()\n",
        "  plt.title(\"Cold Steam Single\")\n",
        "  plt.xlabel(\"Q [kW]\")\n",
        "  plt.ylabel(\"T [°C]\")\n",
        "  for i in range(2,4):\n",
        "    plt.plot([Q_acc[i],Q_acc[i+1]],T[i], 'b')\n",
        "    plt.plot([Q_acc[2],Q_acc[4]],[T[i],T[i]],'--k')\n",
        "  plt.show()\n",
        "\n",
        "  Th =[\n",
        "      [T[0][0],T[1][0]],\n",
        "      [T[1][0],T[0][1]],\n",
        "      [T[0][1],T[1][1]]]\n",
        "  Qhc = [\n",
        "      Cp[0] * (Th[0][1]-Th[0][0]),\n",
        "      (Cp[0] + Cp[1]) * (Th[1][1]-Th[1][0]),\n",
        "      Cp[1] * (Th[2][1]-Th[2][0])]\n",
        "\n",
        "  Qhc_acc = [0]\n",
        "  for i in range(3):\n",
        "    Qhc_acc.append(Qhc_acc[i]+Qhc[i])\n",
        "\n",
        "  plt.figure()\n",
        "  plt.title(\"Hot Steam Comp\")\n",
        "  plt.xlabel(\"Q [kW]\")\n",
        "  plt.ylabel(\"T [°C]\")\n",
        "  for i in range(3):\n",
        "    plt.plot([Qhc_acc[i],Qhc_acc[i+1]],Th[i], 'r')\n",
        "  plt.show()\n",
        "\n",
        "  Tc = [\n",
        "      [T[2][0],T[3][0]],\n",
        "      [T[3][0],T[2][1]],\n",
        "      [T[2][1],T[3][1]]]\n",
        "  Qcc = [\n",
        "      Cp[2] * (Tc[0][1]-Tc[0][0]),\n",
        "      (Cp[2] + Cp[3]) * (Tc[1][1]-Tc[1][0]),\n",
        "      Cp[3] * (Tc[2][1]-Tc[2][0])]\n",
        "  Qcc_acc = [0]\n",
        "  for i in range(3):\n",
        "    Qcc_acc.append(Qcc_acc[i]+Qcc[i])\n",
        "  plt.figure()\n",
        "  plt.title(\"Cold Steam Comp\")\n",
        "  plt.xlabel(\"Q [kW]\")\n",
        "  plt.ylabel(\"T [°C]\")\n",
        "  for i in range(3):\n",
        "    plt.plot([Qcc_acc[i],Qcc_acc[i+1]],Tc[i], 'b')\n",
        "  plt.show()\n",
        "\n",
        "  plt.figure()\n",
        "  plt.title(\"Steam Comp\")\n",
        "  plt.xlabel(\"Q [kW]\")\n",
        "  plt.ylabel(\"T [°C]\")\n",
        "  for i in range(3):\n",
        "    plt.plot([Qcc_acc[i],Qcc_acc[i+1]],Tc[i], 'b')\n",
        "    plt.plot([Qhc_acc[i],Qhc_acc[i+1]],Th[i], 'r')\n",
        "  plt.show()"
      ],
      "execution_count": null,
      "outputs": []
    },
    {
      "cell_type": "code",
      "metadata": {
        "id": "8LCMv4rMu2ux"
      },
      "source": [
        "Cp = [1.5, 3, 2, 4]\n",
        "T = [[30,150] , [60,170] , [20,135] , [80,140]]    \n",
        "plot_pinch(Cp,T)"
      ],
      "execution_count": null,
      "outputs": []
    }
  ]
}